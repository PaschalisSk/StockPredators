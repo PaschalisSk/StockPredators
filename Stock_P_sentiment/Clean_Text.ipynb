{
 "cells": [
  {
   "cell_type": "code",
   "execution_count": 2,
   "metadata": {},
   "outputs": [
    {
     "name": "stderr",
     "output_type": "stream",
     "text": [
      "Using TensorFlow backend.\n"
     ]
    }
   ],
   "source": [
    "import pickle\n",
    "import numpy as np\n",
    "import pandas as pd\n",
    "import tensorflow as tf\n",
    "import keras as k\n",
    "import data\n",
    "import os\n",
    "import csv\n",
    "import re\n",
    "from string import digits"
   ]
  },
  {
   "cell_type": "code",
   "execution_count": 3,
   "metadata": {},
   "outputs": [],
   "source": [
    "import matplotlib.pyplot as plt\n",
    "from matplotlib.pyplot import figure"
   ]
  },
  {
   "cell_type": "code",
   "execution_count": 4,
   "metadata": {},
   "outputs": [],
   "source": [
    "import nltk\n",
    "from nltk.corpus import stopwords\n",
    "from nltk.tokenize import word_tokenize \n"
   ]
  },
  {
   "cell_type": "code",
   "execution_count": 5,
   "metadata": {},
   "outputs": [
    {
     "data": {
      "text/html": [
       "<div>\n",
       "<style scoped>\n",
       "    .dataframe tbody tr th:only-of-type {\n",
       "        vertical-align: middle;\n",
       "    }\n",
       "\n",
       "    .dataframe tbody tr th {\n",
       "        vertical-align: top;\n",
       "    }\n",
       "\n",
       "    .dataframe thead th {\n",
       "        text-align: right;\n",
       "    }\n",
       "</style>\n",
       "<table border=\"1\" class=\"dataframe\">\n",
       "  <thead>\n",
       "    <tr style=\"text-align: right;\">\n",
       "      <th></th>\n",
       "      <th>DateTime</th>\n",
       "      <th>Tweet Text</th>\n",
       "      <th>Hashtags</th>\n",
       "    </tr>\n",
       "  </thead>\n",
       "  <tbody>\n",
       "    <tr>\n",
       "      <th>0</th>\n",
       "      <td>17/03/2016 19:59</td>\n",
       "      <td>#Microsoft ( $ MSFT) Windows 10 build 14291 no...</td>\n",
       "      <td>#Microsoft</td>\n",
       "    </tr>\n",
       "    <tr>\n",
       "      <th>1</th>\n",
       "      <td>17/03/2016 19:58</td>\n",
       "      <td>@majornelson you heard my cries! Thank you #Mi...</td>\n",
       "      <td>#Microsoft #xboxlive</td>\n",
       "    </tr>\n",
       "    <tr>\n",
       "      <th>2</th>\n",
       "      <td>17/03/2016 19:58</td>\n",
       "      <td>#Microsoft ( $ MSFT) Edge extensions and more ...</td>\n",
       "      <td>#Microsoft</td>\n",
       "    </tr>\n",
       "    <tr>\n",
       "      <th>3</th>\n",
       "      <td>17/03/2016 19:57</td>\n",
       "      <td>#Microsoft ( $ MSFT) upgrades smartphones to W...</td>\n",
       "      <td>#Microsoft</td>\n",
       "    </tr>\n",
       "    <tr>\n",
       "      <th>4</th>\n",
       "      <td>17/03/2016 19:57</td>\n",
       "      <td>#Microsoft launches first preview of its Edge ...</td>\n",
       "      <td>#Microsoft #browser #developer #tc #microsoftedge</td>\n",
       "    </tr>\n",
       "  </tbody>\n",
       "</table>\n",
       "</div>"
      ],
      "text/plain": [
       "           DateTime                                         Tweet Text  \\\n",
       "0  17/03/2016 19:59  #Microsoft ( $ MSFT) Windows 10 build 14291 no...   \n",
       "1  17/03/2016 19:58  @majornelson you heard my cries! Thank you #Mi...   \n",
       "2  17/03/2016 19:58  #Microsoft ( $ MSFT) Edge extensions and more ...   \n",
       "3  17/03/2016 19:57  #Microsoft ( $ MSFT) upgrades smartphones to W...   \n",
       "4  17/03/2016 19:57  #Microsoft launches first preview of its Edge ...   \n",
       "\n",
       "                                            Hashtags  \n",
       "0                                         #Microsoft  \n",
       "1                               #Microsoft #xboxlive  \n",
       "2                                         #Microsoft  \n",
       "3                                         #Microsoft  \n",
       "4  #Microsoft #browser #developer #tc #microsoftedge  "
      ]
     },
     "execution_count": 5,
     "metadata": {},
     "output_type": "execute_result"
    }
   ],
   "source": [
    "# Define the text file we want to read\n",
    "MSFT_Sentiment_FILE = 'MSFT_tweets_4m.csv'\n",
    "file = pd.read_csv(r\"MSFT_tweets_4m_tab_2.txt\", sep='\\t')\n",
    "file.head()"
   ]
  },
  {
   "cell_type": "code",
   "execution_count": 6,
   "metadata": {},
   "outputs": [
    {
     "name": "stdout",
     "output_type": "stream",
     "text": [
      "<class 'pandas.core.frame.DataFrame'>\n",
      "RangeIndex: 187118 entries, 0 to 187117\n",
      "Data columns (total 3 columns):\n",
      " DateTime      187063 non-null object\n",
      " Tweet Text    187067 non-null object\n",
      " Hashtags      186995 non-null object\n",
      "dtypes: object(3)\n",
      "memory usage: 4.3+ MB\n"
     ]
    }
   ],
   "source": [
    "file.info()"
   ]
  },
  {
   "cell_type": "code",
   "execution_count": 7,
   "metadata": {},
   "outputs": [
    {
     "name": "stdout",
     "output_type": "stream",
     "text": [
      "Index([' DateTime', ' Tweet Text', ' Hashtags'], dtype='object')\n"
     ]
    },
    {
     "data": {
      "text/plain": [
       "49641     26/02/2016 10:47\n",
       "79231     18/02/2016 04:08\n",
       "9689      14/03/2016 14:58\n",
       "182341    07/01/2016 13:42\n",
       "171223    12/01/2016 17:20\n",
       "Name:  DateTime, dtype: object"
      ]
     },
     "execution_count": 7,
     "metadata": {},
     "output_type": "execute_result"
    }
   ],
   "source": [
    "print(file.columns)\n",
    "tweet_date = file[' DateTime']\n",
    "tweet_date.sample(n=5)"
   ]
  },
  {
   "cell_type": "code",
   "execution_count": 8,
   "metadata": {},
   "outputs": [
    {
     "data": {
      "text/plain": [
       "105554    HTC launches Desire 626 with 13-megapixel rear...\n",
       "44482     #windows10 November updateÍí_äó_íí_íä...\n",
       "181946    A new Xbox One update is currently rolling out...\n",
       "39796     #Microsoft #fillsdeputes ! es volen carregar #...\n",
       "46311     WhatsWrapp brings WhatsApp notifications to Wi...\n",
       "Name:  Tweet Text, dtype: object"
      ]
     },
     "execution_count": 8,
     "metadata": {},
     "output_type": "execute_result"
    }
   ],
   "source": [
    "tweet_text = file[' Tweet Text']\n",
    "tweet_text.sample(n=5)"
   ]
  },
  {
   "cell_type": "code",
   "execution_count": 10,
   "metadata": {},
   "outputs": [
    {
     "data": {
      "text/plain": [
       "187118"
      ]
     },
     "execution_count": 10,
     "metadata": {},
     "output_type": "execute_result"
    }
   ],
   "source": [
    "#Sentiment Analysis\n",
    "\n",
    "tweet_text.shape[0]\n",
    "# tweet_text_dict[i] = tweet_text[i].split()\n"
   ]
  },
  {
   "cell_type": "code",
   "execution_count": 11,
   "metadata": {},
   "outputs": [],
   "source": [
    "#Set all nan -> '0'\n",
    "def set_nan_0(tweet_df_col):\n",
    "    for i in range(tweet_df_col.shape[0]):\n",
    "        if isinstance(tweet_df_col[i], float):\n",
    "            tweet_df_col[i] = '0'\n",
    "    return tweet_df_col"
   ]
  },
  {
   "cell_type": "code",
   "execution_count": 12,
   "metadata": {},
   "outputs": [],
   "source": [
    "tweet_text = set_nan_0(tweet_text)\n",
    "tweet_date = set_nan_0(tweet_date)\n"
   ]
  },
  {
   "cell_type": "code",
   "execution_count": 13,
   "metadata": {},
   "outputs": [],
   "source": [
    "#Put the tweets into a dict: key=> Date; Val=>Text\n",
    "tweet_text_dict = {}\n",
    "for i in range(tweet_text.shape[0]):\n",
    "        tweet_text_dict[tweet_date[i]] = tweet_text[i].split()"
   ]
  },
  {
   "cell_type": "code",
   "execution_count": 14,
   "metadata": {},
   "outputs": [],
   "source": [
    "first10pairs = {k: tweet_text_dict[k] for k in list(tweet_text_dict)[:10]}"
   ]
  },
  {
   "cell_type": "code",
   "execution_count": 15,
   "metadata": {},
   "outputs": [
    {
     "name": "stdout",
     "output_type": "stream",
     "text": [
      "<class 'dict'>\n",
      "<class 'dict'>\n",
      "<class 'list'>\n",
      "<class 'list'>\n"
     ]
    }
   ],
   "source": [
    "print(type(first10pairs))\n",
    "# print(first10pairs)\n",
    "tweet_token_list = list(tweet_text_dict.values())\n",
    "tweet_date_list = list(tweet_text_dict.keys())\n",
    "print(type(tweet_text_dict))\n",
    "print(type(tweet_token_list))\n",
    "print(type(tweet_date_list))"
   ]
  },
  {
   "cell_type": "code",
   "execution_count": 19,
   "metadata": {},
   "outputs": [
    {
     "name": "stdout",
     "output_type": "stream",
     "text": [
      "23\n"
     ]
    }
   ],
   "source": [
    "print(len(tweet_token_list[0]))"
   ]
  },
  {
   "cell_type": "code",
   "execution_count": 17,
   "metadata": {},
   "outputs": [],
   "source": [
    "stop_words = set(stopwords.words('english'))\n",
    "remove_digits = str.maketrans('', '', digits)\n",
    "\n",
    "def stopword_filter(word_tokens):\n",
    "    \"\"\"\n",
    "    Remove stop words and links\n",
    "    \"\"\"\n",
    "    filtered_sentence = []\n",
    "    \n",
    "    for w in word_tokens: \n",
    "        w = w.translate(remove_digits)\n",
    "        w = re.sub(r'http\\S+', '', w)\n",
    "        w = re.sub('[^A-Za-z0-9]+', '', w)\n",
    "        if w not in stop_words and w != '': \n",
    "            filtered_sentence.append(w) \n",
    "        \n",
    "    return filtered_sentence\n",
    "\n",
    "def english_filter(word_tokens):\n",
    "    \"\"\"\n",
    "    Remove words\n",
    "    \"\"\"\n",
    "    filtered_sentence = []\n",
    "    w = word_tokens\n",
    "    w = re.sub(r'#\\S+', '', w)\n",
    "    w = re.sub('[^/0-9]+', '', w)\n",
    "    filtered_sentence.append(w) \n",
    "        \n",
    "    return filtered_sentence"
   ]
  },
  {
   "cell_type": "code",
   "execution_count": 18,
   "metadata": {},
   "outputs": [],
   "source": [
    "tweet_token_list_fil_1 = []\n",
    "for i in range(len(tweet_token_list)):\n",
    "    tweet_token_list_fil_1.append(stopword_filter(tweet_token_list[i]))\n",
    "    "
   ]
  },
  {
   "cell_type": "code",
   "execution_count": 19,
   "metadata": {},
   "outputs": [
    {
     "name": "stdout",
     "output_type": "stream",
     "text": [
      "72791\n",
      "72791\n"
     ]
    }
   ],
   "source": [
    "for i in range(len(tweet_date_list)):\n",
    "    tweet_date_list[i] = tweet_date_list[i].split()[0]\n",
    "print(len(tweet_date_list)); print(len(tweet_token_list_fil_1))"
   ]
  },
  {
   "cell_type": "code",
   "execution_count": 20,
   "metadata": {},
   "outputs": [
    {
     "name": "stdout",
     "output_type": "stream",
     "text": [
      "72791\n",
      "72791\n"
     ]
    }
   ],
   "source": [
    "tweet_date_list_fil_1 = []\n",
    "for i in range(len(tweet_date_list)):\n",
    "    tweet_date_list_fil_1 += (english_filter(tweet_date_list[i]))\n",
    "print(len(tweet_date_list_fil_1)); print(len(tweet_token_list_fil_1))\n"
   ]
  },
  {
   "cell_type": "code",
   "execution_count": null,
   "metadata": {},
   "outputs": [],
   "source": []
  },
  {
   "cell_type": "code",
   "execution_count": 112,
   "metadata": {},
   "outputs": [],
   "source": [
    "new_dict = {}\n",
    "\n",
    "for i in range(len(tweet_date_list)):\n",
    "    new_dict[tweet_date_list_fil_1[i]] = []\n",
    "\n",
    "for i in range(len(tweet_date_list)):\n",
    "    new_dict[tweet_date_list_fil_1[i]] += tweet_token_list_fil_1[i]\n"
   ]
  },
  {
   "cell_type": "code",
   "execution_count": 58,
   "metadata": {},
   "outputs": [
    {
     "data": {
      "text/plain": [
       "17"
      ]
     },
     "execution_count": 58,
     "metadata": {},
     "output_type": "execute_result"
    }
   ],
   "source": [
    "len(new_dict['17/03/2016'])\n",
    "len(new_dict['0'])\n",
    "len(new_dict[''])"
   ]
  },
  {
   "cell_type": "code",
   "execution_count": 59,
   "metadata": {},
   "outputs": [
    {
     "data": {
      "text/plain": [
       "10479"
      ]
     },
     "execution_count": 59,
     "metadata": {},
     "output_type": "execute_result"
    }
   ],
   "source": [
    "len(new_dict['03/03/2016'])"
   ]
  },
  {
   "cell_type": "code",
   "execution_count": 60,
   "metadata": {},
   "outputs": [
    {
     "data": {
      "text/plain": [
       "dict_keys(['17/03/2016', '0', '', '16/03/2016', '15/03/2016', '14/03/2016', '13/03/2016', '12/03/2016', '11/03/2016', '10/03/2016', '09/03/2016', '08/03/2016', '07/03/2016', '06/03/2016', '05/03/2016', '04/03/2016', '20160304', '20160', '201603', '03/03/2016', '02/03/2016', '01/03/2016', '29/02/2016', '28/02/2016', '27/02/2016', '26/02/2016', '25/02/2016', '24/02/2016', '23/02/2016', '22/02/2016', '21/02/2016', '20/02/2016', '19/02/2016', '18/02/2016', '20160218', '201602', '17/02/2016', '16/02/2016', '15/02/2016', '14/02/2016', '13/02/2016', '12/02/2016', '11/02/2016', '10/02/2016', '09/02/2016', '08/02/2016', '07/02/2016', '06/02/2016', '05/02/2016', '04/02/2016', '03/02/2016', '02/02/2016', '01/02/2016', '31/01/2016', '30/01/2016', '29/01/2016', '28/01/2016', '27/01/2016', '26/01/2016', '25/01/2016', '24/01/2016', '23/01/2016', '22/01/2016', '21/01/2016', '20/01/2016', '19/01/2016', '18/01/2016', '17/01/2016', '16/01/2016', '15/01/2016', '14/01/2016', '13/01/2016', '12/01/2016', '11/01/2016', '10/01/2016', '09/01/2016', '08/01/2016', '07/01/2016', '06/01/2016', '05/01/2016', '03/01/2016', '02/01/2016', '01/01/2016', '30/12/2015', '29/12/2015', '28/12/2015', '27/12/2015', '25/12/2015', '24/12/2015', '23/12/2015', '22/12/2015', '21/12/2015', '20/12/2015', '19/12/2015', '18/12/2015', '17/12/2015', '16/12/2015', '15/12/2015', '14/12/2015', '13/12/2015', '11/12/2015', '10/12/2015', '09/12/2015', '08/12/2015', '07/12/2015', '06/12/2015', '05/12/2015', '04/12/2015', '02/12/2015', '01/12/2015', '28/11/2015', '25/11/2015', '24/11/2015', '23/11/2015', '22/11/2015', '21/11/2015', '20/11/2015', '19/11/2015', '18/11/2015', '17/11/2015'])"
      ]
     },
     "execution_count": 60,
     "metadata": {},
     "output_type": "execute_result"
    }
   ],
   "source": [
    "new_dict.keys()"
   ]
  },
  {
   "cell_type": "code",
   "execution_count": 61,
   "metadata": {},
   "outputs": [],
   "source": [
    "terms_volume = {}\n",
    "\n",
    "for key in new_dict.keys():\n",
    "    terms_volume[key] = len(new_dict[key])\n",
    "\n"
   ]
  },
  {
   "cell_type": "code",
   "execution_count": null,
   "metadata": {},
   "outputs": [],
   "source": []
  },
  {
   "cell_type": "code",
   "execution_count": 96,
   "metadata": {},
   "outputs": [],
   "source": [
    "key_del = []\n",
    "for key, val in terms_volume.items():\n",
    "    if val == 0:\n",
    "        key_del.append(key)\n",
    "        \n",
    "for i in key_del:\n",
    "    del terms_volume[i]\n"
   ]
  },
  {
   "cell_type": "code",
   "execution_count": 116,
   "metadata": {},
   "outputs": [
    {
     "ename": "KeyError",
     "evalue": "'20160304'",
     "output_type": "error",
     "traceback": [
      "\u001b[0;31m---------------------------------------------------------------------------\u001b[0m",
      "\u001b[0;31mKeyError\u001b[0m                                  Traceback (most recent call last)",
      "\u001b[0;32m<ipython-input-116-e1158be24d69>\u001b[0m in \u001b[0;36m<module>\u001b[0;34m\u001b[0m\n\u001b[1;32m      1\u001b[0m \u001b[0;32mfor\u001b[0m \u001b[0mi\u001b[0m \u001b[0;32min\u001b[0m \u001b[0mkey_del\u001b[0m\u001b[0;34m:\u001b[0m\u001b[0;34m\u001b[0m\u001b[0;34m\u001b[0m\u001b[0m\n\u001b[0;32m----> 2\u001b[0;31m     \u001b[0;32mdel\u001b[0m \u001b[0mnew_dict\u001b[0m\u001b[0;34m[\u001b[0m\u001b[0mi\u001b[0m\u001b[0;34m]\u001b[0m\u001b[0;34m\u001b[0m\u001b[0;34m\u001b[0m\u001b[0m\n\u001b[0m",
      "\u001b[0;31mKeyError\u001b[0m: '20160304'"
     ]
    }
   ],
   "source": [
    "for i in key_del:\n",
    "    del new_dict[i]"
   ]
  },
  {
   "cell_type": "code",
   "execution_count": 117,
   "metadata": {},
   "outputs": [
    {
     "data": {
      "text/plain": [
       "dict_keys(['17/03/2016', '16/03/2016', '15/03/2016', '14/03/2016', '13/03/2016', '12/03/2016', '11/03/2016', '10/03/2016', '09/03/2016', '08/03/2016', '07/03/2016', '06/03/2016', '05/03/2016', '04/03/2016', '03/03/2016', '02/03/2016', '01/03/2016', '29/02/2016', '28/02/2016', '27/02/2016', '26/02/2016', '25/02/2016', '24/02/2016', '23/02/2016', '22/02/2016', '21/02/2016', '20/02/2016', '19/02/2016', '18/02/2016', '17/02/2016', '16/02/2016', '15/02/2016', '14/02/2016', '13/02/2016', '12/02/2016', '11/02/2016', '10/02/2016', '09/02/2016', '08/02/2016', '07/02/2016', '06/02/2016', '05/02/2016', '04/02/2016', '03/02/2016', '02/02/2016', '01/02/2016', '31/01/2016', '30/01/2016', '29/01/2016', '28/01/2016', '27/01/2016', '26/01/2016', '25/01/2016', '24/01/2016', '23/01/2016', '22/01/2016', '21/01/2016', '20/01/2016', '19/01/2016', '18/01/2016', '17/01/2016', '16/01/2016', '15/01/2016', '14/01/2016', '13/01/2016', '12/01/2016', '11/01/2016', '10/01/2016', '09/01/2016', '08/01/2016', '07/01/2016', '06/01/2016', '05/01/2016', '03/01/2016', '02/01/2016', '01/01/2016', '30/12/2015', '29/12/2015', '28/12/2015', '27/12/2015', '25/12/2015', '24/12/2015', '23/12/2015', '22/12/2015', '21/12/2015', '20/12/2015', '19/12/2015', '18/12/2015', '17/12/2015', '16/12/2015', '15/12/2015', '14/12/2015', '13/12/2015', '11/12/2015', '10/12/2015', '09/12/2015', '08/12/2015', '07/12/2015', '06/12/2015', '05/12/2015', '04/12/2015', '02/12/2015', '01/12/2015', '28/11/2015', '25/11/2015', '24/11/2015', '23/11/2015', '22/11/2015', '21/11/2015', '20/11/2015', '19/11/2015', '18/11/2015', '17/11/2015'])"
      ]
     },
     "execution_count": 117,
     "metadata": {},
     "output_type": "execute_result"
    }
   ],
   "source": [
    "del new_dict['']; del new_dict['0']\n",
    "new_dict.keys()"
   ]
  },
  {
   "cell_type": "code",
   "execution_count": 97,
   "metadata": {},
   "outputs": [
    {
     "data": {
      "text/plain": [
       "dict_keys(['17/03/2016', '16/03/2016', '15/03/2016', '14/03/2016', '13/03/2016', '12/03/2016', '11/03/2016', '10/03/2016', '09/03/2016', '08/03/2016', '07/03/2016', '06/03/2016', '05/03/2016', '04/03/2016', '03/03/2016', '02/03/2016', '01/03/2016', '29/02/2016', '28/02/2016', '27/02/2016', '26/02/2016', '25/02/2016', '24/02/2016', '23/02/2016', '22/02/2016', '21/02/2016', '20/02/2016', '19/02/2016', '18/02/2016', '17/02/2016', '16/02/2016', '15/02/2016', '14/02/2016', '13/02/2016', '12/02/2016', '11/02/2016', '10/02/2016', '09/02/2016', '08/02/2016', '07/02/2016', '06/02/2016', '05/02/2016', '04/02/2016', '03/02/2016', '02/02/2016', '01/02/2016', '31/01/2016', '30/01/2016', '29/01/2016', '28/01/2016', '27/01/2016', '26/01/2016', '25/01/2016', '24/01/2016', '23/01/2016', '22/01/2016', '21/01/2016', '20/01/2016', '19/01/2016', '18/01/2016', '17/01/2016', '16/01/2016', '15/01/2016', '14/01/2016', '13/01/2016', '12/01/2016', '11/01/2016', '10/01/2016', '09/01/2016', '08/01/2016', '07/01/2016', '06/01/2016', '05/01/2016', '03/01/2016', '02/01/2016', '01/01/2016', '30/12/2015', '29/12/2015', '28/12/2015', '27/12/2015', '25/12/2015', '24/12/2015', '23/12/2015', '22/12/2015', '21/12/2015', '20/12/2015', '19/12/2015', '18/12/2015', '17/12/2015', '16/12/2015', '15/12/2015', '14/12/2015', '13/12/2015', '11/12/2015', '10/12/2015', '09/12/2015', '08/12/2015', '07/12/2015', '06/12/2015', '05/12/2015', '04/12/2015', '02/12/2015', '01/12/2015', '28/11/2015', '25/11/2015', '24/11/2015', '23/11/2015', '22/11/2015', '21/11/2015', '20/11/2015', '19/11/2015', '18/11/2015', '17/11/2015'])"
      ]
     },
     "execution_count": 97,
     "metadata": {},
     "output_type": "execute_result"
    }
   ],
   "source": [
    "terms_volume.keys()"
   ]
  },
  {
   "cell_type": "code",
   "execution_count": 98,
   "metadata": {},
   "outputs": [],
   "source": [
    "vol_1 = {key: terms_volume[key] for i, (key, value) in enumerate(terms_volume.items()) if i < len(terms_volume)/4}\n",
    "vol_2 = {key: terms_volume[key] for i, (key, value) in enumerate(terms_volume.items()) if i >= len(terms_volume)/4 and i <= len(terms_volume)/2}\n",
    "vol_3 = {key: terms_volume[key] for i, (key, value) in enumerate(terms_volume.items()) if i >= len(terms_volume)/2 and i <= len(terms_volume)*3/4}\n",
    "vol_4 = {key: terms_volume[key] for i, (key, value) in enumerate(terms_volume.items()) if i >= len(terms_volume)*3/4}\n"
   ]
  },
  {
   "cell_type": "code",
   "execution_count": 99,
   "metadata": {},
   "outputs": [
    {
     "name": "stdout",
     "output_type": "stream",
     "text": [
      "dict_keys(['17/03/2016', '16/03/2016', '15/03/2016', '14/03/2016', '13/03/2016', '12/03/2016', '11/03/2016', '10/03/2016', '09/03/2016', '08/03/2016', '07/03/2016', '06/03/2016', '05/03/2016', '04/03/2016', '03/03/2016', '02/03/2016', '01/03/2016', '29/02/2016', '28/02/2016', '27/02/2016', '26/02/2016', '25/02/2016', '24/02/2016', '23/02/2016', '22/02/2016', '21/02/2016', '20/02/2016', '19/02/2016', '18/02/2016'])\n"
     ]
    }
   ],
   "source": [
    "print(vol_1.keys())"
   ]
  },
  {
   "cell_type": "code",
   "execution_count": 100,
   "metadata": {},
   "outputs": [
    {
     "data": {
      "image/png": "[encoded data removed]",
      "text/plain": [
       "<Figure size 1280x560 with 1 Axes>"
      ]
     },
     "metadata": {},
     "output_type": "display_data"
    }
   ],
   "source": [
    "figure(figsize=(16, 7), dpi=80, facecolor='w', edgecolor='k')\n",
    "barplt_col_sum = plt.bar(vol_1.keys(), vol_1.values(), color='g', width = 0.8, align = 'center')\n",
    "plt.xticks(rotation=-90)\n",
    "plt.yticks(np.arange(0 , 15000, step = 1000))\n",
    "plt.xlabel('Date')\n",
    "plt.ylabel('Word count')\n",
    "plt.title('Daily word count from 22/02/2016 to 17/03/2016')\n",
    "plt.savefig('date_volumne1.pdf')"
   ]
  },
  {
   "cell_type": "code",
   "execution_count": 105,
   "metadata": {},
   "outputs": [
    {
     "data": {
      "image/png": "[encoded data removed]",
      "text/plain": [
       "<Figure size 1280x560 with 1 Axes>"
      ]
     },
     "metadata": {},
     "output_type": "display_data"
    }
   ],
   "source": [
    "figure(figsize=(16, 7), dpi=80, facecolor='w', edgecolor='k')\n",
    "barplt_col_sum = plt.bar(vol_2.keys(), vol_2.values(), color='g', width = 0.8, align = 'center')\n",
    "plt.xticks(rotation=-90)\n",
    "plt.yticks(np.arange(0 , 15000, step = 1000))\n",
    "plt.xlabel('Date')\n",
    "plt.ylabel('Word count')\n",
    "plt.title('Daily word count from 24/01/2016 to 21/02/2016')\n",
    "plt.savefig('date_volumne2.pdf')"
   ]
  },
  {
   "cell_type": "code",
   "execution_count": 102,
   "metadata": {},
   "outputs": [
    {
     "data": {
      "image/png": "[encoded data removed]",
      "text/plain": [
       "<Figure size 1280x560 with 1 Axes>"
      ]
     },
     "metadata": {},
     "output_type": "display_data"
    }
   ],
   "source": [
    "figure(figsize=(16, 7), dpi=80, facecolor='w', edgecolor='k')\n",
    "barplt_col_sum = plt.bar(vol_3.keys(), vol_3.values(), color='g', width = 0.8, align = 'center')\n",
    "plt.xticks(rotation=-90)\n",
    "plt.yticks(np.arange(0 , 15000, step = 1000))\n",
    "plt.title('Daily word count from 22/12/2015 to 24/01/2016')\n",
    "plt.xlabel('Date')\n",
    "plt.ylabel('Word count')\n",
    "plt.savefig('date_volumne3.pdf')"
   ]
  },
  {
   "cell_type": "code",
   "execution_count": 106,
   "metadata": {},
   "outputs": [
    {
     "data": {
      "image/png": "[encoded data removed]",
      "text/plain": [
       "<Figure size 1280x560 with 1 Axes>"
      ]
     },
     "metadata": {},
     "output_type": "display_data"
    }
   ],
   "source": [
    "figure(figsize=(16, 7), dpi=80, facecolor='w', edgecolor='k')\n",
    "barplt_col_sum = plt.bar(vol_4.keys(), vol_4.values(), color='g', width = 0.8, align = 'center')\n",
    "plt.xticks(rotation=-90)\n",
    "plt.yticks(np.arange(0 , 15000, step = 1000))\n",
    "plt.title('Daily word count from 17/11/2015 to 22/12/2015')\n",
    "plt.xlabel('Date')\n",
    "plt.ylabel('Word count')\n",
    "plt.savefig('date_volumne4.pdf')"
   ]
  },
  {
   "cell_type": "code",
   "execution_count": 107,
   "metadata": {},
   "outputs": [
    {
     "data": {
      "image/png": "[encoded data removed]",
      "text/plain": [
       "<Figure size 1280x560 with 1 Axes>"
      ]
     },
     "metadata": {},
     "output_type": "display_data"
    }
   ],
   "source": [
    "figure(figsize=(16, 7), dpi=80, facecolor='w', edgecolor='k')\n",
    "barplt_col_sum = plt.bar(vol_4.keys(), vol_4.values(), color='g', width = 0.8, align = 'center')\n",
    "plt.xticks(rotation=-90)\n",
    "# plt.yticks(np.arange(0 , 15000, step = 1000))\n",
    "plt.title('Daily word count from 17/11/2015 to 22/12/2015')\n",
    "plt.xlabel('Date')\n",
    "plt.ylabel('Word count')\n",
    "plt.savefig('date_volumne4_2.pdf')"
   ]
  },
  {
   "cell_type": "code",
   "execution_count": 118,
   "metadata": {},
   "outputs": [
    {
     "data": {
      "text/plain": [
       "dict_keys(['17/03/2016', '16/03/2016', '15/03/2016', '14/03/2016', '13/03/2016', '12/03/2016', '11/03/2016', '10/03/2016', '09/03/2016', '08/03/2016', '07/03/2016', '06/03/2016', '05/03/2016', '04/03/2016', '03/03/2016', '02/03/2016', '01/03/2016', '29/02/2016', '28/02/2016', '27/02/2016', '26/02/2016', '25/02/2016', '24/02/2016', '23/02/2016', '22/02/2016', '21/02/2016', '20/02/2016', '19/02/2016', '18/02/2016', '17/02/2016', '16/02/2016', '15/02/2016', '14/02/2016', '13/02/2016', '12/02/2016', '11/02/2016', '10/02/2016', '09/02/2016', '08/02/2016', '07/02/2016', '06/02/2016', '05/02/2016', '04/02/2016', '03/02/2016', '02/02/2016', '01/02/2016', '31/01/2016', '30/01/2016', '29/01/2016', '28/01/2016', '27/01/2016', '26/01/2016', '25/01/2016', '24/01/2016', '23/01/2016', '22/01/2016', '21/01/2016', '20/01/2016', '19/01/2016', '18/01/2016', '17/01/2016', '16/01/2016', '15/01/2016', '14/01/2016', '13/01/2016', '12/01/2016', '11/01/2016', '10/01/2016', '09/01/2016', '08/01/2016', '07/01/2016', '06/01/2016', '05/01/2016', '03/01/2016', '02/01/2016', '01/01/2016', '30/12/2015', '29/12/2015', '28/12/2015', '27/12/2015', '25/12/2015', '24/12/2015', '23/12/2015', '22/12/2015', '21/12/2015', '20/12/2015', '19/12/2015', '18/12/2015', '17/12/2015', '16/12/2015', '15/12/2015', '14/12/2015', '13/12/2015', '11/12/2015', '10/12/2015', '09/12/2015', '08/12/2015', '07/12/2015', '06/12/2015', '05/12/2015', '04/12/2015', '02/12/2015', '01/12/2015', '28/11/2015', '25/11/2015', '24/11/2015', '23/11/2015', '22/11/2015', '21/11/2015', '20/11/2015', '19/11/2015', '18/11/2015', '17/11/2015'])"
      ]
     },
     "execution_count": 118,
     "metadata": {},
     "output_type": "execute_result"
    }
   ],
   "source": [
    "new_dict.keys()"
   ]
  },
  {
   "cell_type": "code",
   "execution_count": 122,
   "metadata": {},
   "outputs": [],
   "source": [
    "new_pd =  pd.DataFrame({k: pd.Series(l) for k, l in new_dict.items()})"
   ]
  },
  {
   "cell_type": "code",
   "execution_count": 125,
   "metadata": {},
   "outputs": [
    {
     "name": "stdout",
     "output_type": "stream",
     "text": [
      "(13557, 113)\n"
     ]
    }
   ],
   "source": [
    "print(new_pd.shape)"
   ]
  },
  {
   "cell_type": "code",
   "execution_count": null,
   "metadata": {},
   "outputs": [],
   "source": []
  },
  {
   "cell_type": "code",
   "execution_count": 127,
   "metadata": {},
   "outputs": [
    {
     "data": {
      "text/html": [
       "<div>\n",
       "<style scoped>\n",
       "    .dataframe tbody tr th:only-of-type {\n",
       "        vertical-align: middle;\n",
       "    }\n",
       "\n",
       "    .dataframe tbody tr th {\n",
       "        vertical-align: top;\n",
       "    }\n",
       "\n",
       "    .dataframe thead th {\n",
       "        text-align: right;\n",
       "    }\n",
       "</style>\n",
       "<table border=\"1\" class=\"dataframe\">\n",
       "  <thead>\n",
       "    <tr style=\"text-align: right;\">\n",
       "      <th></th>\n",
       "      <th>17/03/2016</th>\n",
       "      <th>16/03/2016</th>\n",
       "      <th>15/03/2016</th>\n",
       "      <th>14/03/2016</th>\n",
       "      <th>13/03/2016</th>\n",
       "      <th>12/03/2016</th>\n",
       "      <th>11/03/2016</th>\n",
       "      <th>10/03/2016</th>\n",
       "      <th>09/03/2016</th>\n",
       "      <th>08/03/2016</th>\n",
       "      <th>...</th>\n",
       "      <th>28/11/2015</th>\n",
       "      <th>25/11/2015</th>\n",
       "      <th>24/11/2015</th>\n",
       "      <th>23/11/2015</th>\n",
       "      <th>22/11/2015</th>\n",
       "      <th>21/11/2015</th>\n",
       "      <th>20/11/2015</th>\n",
       "      <th>19/11/2015</th>\n",
       "      <th>18/11/2015</th>\n",
       "      <th>17/11/2015</th>\n",
       "    </tr>\n",
       "  </thead>\n",
       "  <tbody>\n",
       "    <tr>\n",
       "      <th>10654</th>\n",
       "      <td>NaN</td>\n",
       "      <td>blog</td>\n",
       "      <td>rival</td>\n",
       "      <td>amazing</td>\n",
       "      <td>NaN</td>\n",
       "      <td>NaN</td>\n",
       "      <td>past</td>\n",
       "      <td>andra</td>\n",
       "      <td>good</td>\n",
       "      <td>test</td>\n",
       "      <td>...</td>\n",
       "      <td>NaN</td>\n",
       "      <td>NaN</td>\n",
       "      <td>NaN</td>\n",
       "      <td>NaN</td>\n",
       "      <td>NaN</td>\n",
       "      <td>NaN</td>\n",
       "      <td>NaN</td>\n",
       "      <td>NaN</td>\n",
       "      <td>NaN</td>\n",
       "      <td>NaN</td>\n",
       "    </tr>\n",
       "    <tr>\n",
       "      <th>983</th>\n",
       "      <td>Great</td>\n",
       "      <td>Australia</td>\n",
       "      <td>Xbox</td>\n",
       "      <td>microsoft</td>\n",
       "      <td>Bitcoins</td>\n",
       "      <td>adds</td>\n",
       "      <td>Lim</td>\n",
       "      <td>Microsoft</td>\n",
       "      <td>businessintelligence</td>\n",
       "      <td>lineup</td>\n",
       "      <td>...</td>\n",
       "      <td>NaN</td>\n",
       "      <td>NaN</td>\n",
       "      <td>NaN</td>\n",
       "      <td>NaN</td>\n",
       "      <td>NaN</td>\n",
       "      <td>NaN</td>\n",
       "      <td>NaN</td>\n",
       "      <td>NaN</td>\n",
       "      <td>NaN</td>\n",
       "      <td>NaN</td>\n",
       "    </tr>\n",
       "    <tr>\n",
       "      <th>2895</th>\n",
       "      <td>microsoft</td>\n",
       "      <td>Acquiring</td>\n",
       "      <td>Technica</td>\n",
       "      <td>completed</td>\n",
       "      <td>Microsoft</td>\n",
       "      <td>NabdApp</td>\n",
       "      <td>toolbar</td>\n",
       "      <td>microsoft</td>\n",
       "      <td>computer</td>\n",
       "      <td>says</td>\n",
       "      <td>...</td>\n",
       "      <td>NaN</td>\n",
       "      <td>NaN</td>\n",
       "      <td>NaN</td>\n",
       "      <td>NaN</td>\n",
       "      <td>NaN</td>\n",
       "      <td>NaN</td>\n",
       "      <td>NaN</td>\n",
       "      <td>NaN</td>\n",
       "      <td>NaN</td>\n",
       "      <td>NaN</td>\n",
       "    </tr>\n",
       "    <tr>\n",
       "      <th>10402</th>\n",
       "      <td>NaN</td>\n",
       "      <td>also</td>\n",
       "      <td>bitcoin</td>\n",
       "      <td>computing</td>\n",
       "      <td>NaN</td>\n",
       "      <td>NaN</td>\n",
       "      <td>Linux</td>\n",
       "      <td>Event</td>\n",
       "      <td>World</td>\n",
       "      <td>PepperMicrosoft</td>\n",
       "      <td>...</td>\n",
       "      <td>NaN</td>\n",
       "      <td>NaN</td>\n",
       "      <td>NaN</td>\n",
       "      <td>NaN</td>\n",
       "      <td>NaN</td>\n",
       "      <td>NaN</td>\n",
       "      <td>NaN</td>\n",
       "      <td>NaN</td>\n",
       "      <td>NaN</td>\n",
       "      <td>NaN</td>\n",
       "    </tr>\n",
       "    <tr>\n",
       "      <th>9630</th>\n",
       "      <td>industries</td>\n",
       "      <td>Office</td>\n",
       "      <td>TI</td>\n",
       "      <td>met</td>\n",
       "      <td>NaN</td>\n",
       "      <td>NaN</td>\n",
       "      <td>IU</td>\n",
       "      <td>company</td>\n",
       "      <td>Microsoft</td>\n",
       "      <td>Server</td>\n",
       "      <td>...</td>\n",
       "      <td>NaN</td>\n",
       "      <td>NaN</td>\n",
       "      <td>NaN</td>\n",
       "      <td>NaN</td>\n",
       "      <td>NaN</td>\n",
       "      <td>NaN</td>\n",
       "      <td>NaN</td>\n",
       "      <td>NaN</td>\n",
       "      <td>NaN</td>\n",
       "      <td>NaN</td>\n",
       "    </tr>\n",
       "  </tbody>\n",
       "</table>\n",
       "<p>5 rows × 113 columns</p>\n",
       "</div>"
      ],
      "text/plain": [
       "       17/03/2016 16/03/2016 15/03/2016 14/03/2016 13/03/2016 12/03/2016  \\\n",
       "10654         NaN       blog      rival    amazing        NaN        NaN   \n",
       "983         Great  Australia       Xbox  microsoft   Bitcoins       adds   \n",
       "2895    microsoft  Acquiring   Technica  completed  Microsoft    NabdApp   \n",
       "10402         NaN       also    bitcoin  computing        NaN        NaN   \n",
       "9630   industries     Office         TI        met        NaN        NaN   \n",
       "\n",
       "      11/03/2016 10/03/2016            09/03/2016       08/03/2016  ...  \\\n",
       "10654       past      andra                  good             test  ...   \n",
       "983          Lim  Microsoft  businessintelligence           lineup  ...   \n",
       "2895     toolbar  microsoft              computer             says  ...   \n",
       "10402      Linux      Event                 World  PepperMicrosoft  ...   \n",
       "9630          IU    company             Microsoft           Server  ...   \n",
       "\n",
       "      28/11/2015 25/11/2015 24/11/2015 23/11/2015 22/11/2015 21/11/2015  \\\n",
       "10654        NaN        NaN        NaN        NaN        NaN        NaN   \n",
       "983          NaN        NaN        NaN        NaN        NaN        NaN   \n",
       "2895         NaN        NaN        NaN        NaN        NaN        NaN   \n",
       "10402        NaN        NaN        NaN        NaN        NaN        NaN   \n",
       "9630         NaN        NaN        NaN        NaN        NaN        NaN   \n",
       "\n",
       "      20/11/2015 19/11/2015 18/11/2015 17/11/2015  \n",
       "10654        NaN        NaN        NaN        NaN  \n",
       "983          NaN        NaN        NaN        NaN  \n",
       "2895         NaN        NaN        NaN        NaN  \n",
       "10402        NaN        NaN        NaN        NaN  \n",
       "9630         NaN        NaN        NaN        NaN  \n",
       "\n",
       "[5 rows x 113 columns]"
      ]
     },
     "execution_count": 127,
     "metadata": {},
     "output_type": "execute_result"
    }
   ],
   "source": [
    "new_pd.sample(n=5)"
   ]
  },
  {
   "cell_type": "code",
   "execution_count": 133,
   "metadata": {},
   "outputs": [
    {
     "name": "stdout",
     "output_type": "stream",
     "text": [
      "(113, 13557)\n"
     ]
    },
    {
     "data": {
      "text/html": [
       "<div>\n",
       "<style scoped>\n",
       "    .dataframe tbody tr th:only-of-type {\n",
       "        vertical-align: middle;\n",
       "    }\n",
       "\n",
       "    .dataframe tbody tr th {\n",
       "        vertical-align: top;\n",
       "    }\n",
       "\n",
       "    .dataframe thead th {\n",
       "        text-align: right;\n",
       "    }\n",
       "</style>\n",
       "<table border=\"1\" class=\"dataframe\">\n",
       "  <thead>\n",
       "    <tr style=\"text-align: right;\">\n",
       "      <th></th>\n",
       "      <th>0</th>\n",
       "      <th>1</th>\n",
       "      <th>2</th>\n",
       "      <th>3</th>\n",
       "      <th>4</th>\n",
       "      <th>5</th>\n",
       "      <th>6</th>\n",
       "      <th>7</th>\n",
       "      <th>8</th>\n",
       "      <th>9</th>\n",
       "      <th>...</th>\n",
       "      <th>13547</th>\n",
       "      <th>13548</th>\n",
       "      <th>13549</th>\n",
       "      <th>13550</th>\n",
       "      <th>13551</th>\n",
       "      <th>13552</th>\n",
       "      <th>13553</th>\n",
       "      <th>13554</th>\n",
       "      <th>13555</th>\n",
       "      <th>13556</th>\n",
       "    </tr>\n",
       "  </thead>\n",
       "  <tbody>\n",
       "    <tr>\n",
       "      <th>09/01/2016</th>\n",
       "      <td>QA</td>\n",
       "      <td>Monday</td>\n",
       "      <td>Windows</td>\n",
       "      <td>Hide</td>\n",
       "      <td>Accounts</td>\n",
       "      <td>Welcome</td>\n",
       "      <td>Menu</td>\n",
       "      <td>Microsoft</td>\n",
       "      <td>Dubai</td>\n",
       "      <td>teams</td>\n",
       "      <td>...</td>\n",
       "      <td>NaN</td>\n",
       "      <td>NaN</td>\n",
       "      <td>NaN</td>\n",
       "      <td>NaN</td>\n",
       "      <td>NaN</td>\n",
       "      <td>NaN</td>\n",
       "      <td>NaN</td>\n",
       "      <td>NaN</td>\n",
       "      <td>NaN</td>\n",
       "      <td>NaN</td>\n",
       "    </tr>\n",
       "    <tr>\n",
       "      <th>03/02/2016</th>\n",
       "      <td>Microsoft</td>\n",
       "      <td>officially</td>\n",
       "      <td>acquiring</td>\n",
       "      <td>SwiftKey</td>\n",
       "      <td>tech</td>\n",
       "      <td>How</td>\n",
       "      <td>send</td>\n",
       "      <td>free</td>\n",
       "      <td>text</td>\n",
       "      <td>messages</td>\n",
       "      <td>...</td>\n",
       "      <td>NaN</td>\n",
       "      <td>NaN</td>\n",
       "      <td>NaN</td>\n",
       "      <td>NaN</td>\n",
       "      <td>NaN</td>\n",
       "      <td>NaN</td>\n",
       "      <td>NaN</td>\n",
       "      <td>NaN</td>\n",
       "      <td>NaN</td>\n",
       "      <td>NaN</td>\n",
       "    </tr>\n",
       "    <tr>\n",
       "      <th>22/11/2015</th>\n",
       "      <td>Its</td>\n",
       "      <td>Monday</td>\n",
       "      <td>Here</td>\n",
       "      <td>tips</td>\n",
       "      <td>help</td>\n",
       "      <td>increase</td>\n",
       "      <td>productivity</td>\n",
       "      <td>Outlook</td>\n",
       "      <td>microsoft</td>\n",
       "      <td>anncios</td>\n",
       "      <td>...</td>\n",
       "      <td>NaN</td>\n",
       "      <td>NaN</td>\n",
       "      <td>NaN</td>\n",
       "      <td>NaN</td>\n",
       "      <td>NaN</td>\n",
       "      <td>NaN</td>\n",
       "      <td>NaN</td>\n",
       "      <td>NaN</td>\n",
       "      <td>NaN</td>\n",
       "      <td>NaN</td>\n",
       "    </tr>\n",
       "    <tr>\n",
       "      <th>18/01/2016</th>\n",
       "      <td>mmorpgfeatures</td>\n",
       "      <td>microsoft</td>\n",
       "      <td>leagueoflegends</td>\n",
       "      <td>api</td>\n",
       "      <td>mobile</td>\n",
       "      <td>gadgets</td>\n",
       "      <td>ipadgames</td>\n",
       "      <td>Microsoft</td>\n",
       "      <td>issued</td>\n",
       "      <td>terrifying</td>\n",
       "      <td>...</td>\n",
       "      <td>NaN</td>\n",
       "      <td>NaN</td>\n",
       "      <td>NaN</td>\n",
       "      <td>NaN</td>\n",
       "      <td>NaN</td>\n",
       "      <td>NaN</td>\n",
       "      <td>NaN</td>\n",
       "      <td>NaN</td>\n",
       "      <td>NaN</td>\n",
       "      <td>NaN</td>\n",
       "    </tr>\n",
       "    <tr>\n",
       "      <th>13/12/2015</th>\n",
       "      <td>Heres</td>\n",
       "      <td>display</td>\n",
       "      <td>full</td>\n",
       "      <td>messages</td>\n",
       "      <td>images</td>\n",
       "      <td>Outlook</td>\n",
       "      <td>Mail</td>\n",
       "      <td>WindowsMobile</td>\n",
       "      <td>Microsoft</td>\n",
       "      <td>via</td>\n",
       "      <td>...</td>\n",
       "      <td>NaN</td>\n",
       "      <td>NaN</td>\n",
       "      <td>NaN</td>\n",
       "      <td>NaN</td>\n",
       "      <td>NaN</td>\n",
       "      <td>NaN</td>\n",
       "      <td>NaN</td>\n",
       "      <td>NaN</td>\n",
       "      <td>NaN</td>\n",
       "      <td>NaN</td>\n",
       "    </tr>\n",
       "  </tbody>\n",
       "</table>\n",
       "<p>5 rows × 13557 columns</p>\n",
       "</div>"
      ],
      "text/plain": [
       "                     0           1                2         3         4      \\\n",
       "09/01/2016              QA      Monday          Windows      Hide  Accounts   \n",
       "03/02/2016       Microsoft  officially        acquiring  SwiftKey      tech   \n",
       "22/11/2015             Its      Monday             Here      tips      help   \n",
       "18/01/2016  mmorpgfeatures   microsoft  leagueoflegends       api    mobile   \n",
       "13/12/2015           Heres     display             full  messages    images   \n",
       "\n",
       "               5             6              7          8           9      ...  \\\n",
       "09/01/2016   Welcome          Menu      Microsoft      Dubai       teams  ...   \n",
       "03/02/2016       How          send           free       text    messages  ...   \n",
       "22/11/2015  increase  productivity        Outlook  microsoft     anncios  ...   \n",
       "18/01/2016   gadgets     ipadgames      Microsoft     issued  terrifying  ...   \n",
       "13/12/2015   Outlook          Mail  WindowsMobile  Microsoft         via  ...   \n",
       "\n",
       "           13547 13548 13549 13550 13551 13552 13553 13554 13555 13556  \n",
       "09/01/2016   NaN   NaN   NaN   NaN   NaN   NaN   NaN   NaN   NaN   NaN  \n",
       "03/02/2016   NaN   NaN   NaN   NaN   NaN   NaN   NaN   NaN   NaN   NaN  \n",
       "22/11/2015   NaN   NaN   NaN   NaN   NaN   NaN   NaN   NaN   NaN   NaN  \n",
       "18/01/2016   NaN   NaN   NaN   NaN   NaN   NaN   NaN   NaN   NaN   NaN  \n",
       "13/12/2015   NaN   NaN   NaN   NaN   NaN   NaN   NaN   NaN   NaN   NaN  \n",
       "\n",
       "[5 rows x 13557 columns]"
      ]
     },
     "execution_count": 133,
     "metadata": {},
     "output_type": "execute_result"
    }
   ],
   "source": [
    "new_pd_2 = new_pd.T\n",
    "print(new_pd_2.shape)\n",
    "new_pd_2.sample(n=5)"
   ]
  },
  {
   "cell_type": "code",
   "execution_count": 136,
   "metadata": {},
   "outputs": [],
   "source": [
    "new_pd.to_csv('clean_msft_tweets_4m_v.csv')\n",
    "new_pd_2.to_csv('clean_msft_tweets_4m_h.csv')"
   ]
  },
  {
   "cell_type": "code",
   "execution_count": null,
   "metadata": {},
   "outputs": [],
   "source": []
  },
  {
   "cell_type": "code",
   "execution_count": null,
   "metadata": {},
   "outputs": [],
   "source": []
  },
  {
   "cell_type": "code",
   "execution_count": null,
   "metadata": {},
   "outputs": [],
   "source": []
  },
  {
   "cell_type": "code",
   "execution_count": null,
   "metadata": {},
   "outputs": [],
   "source": []
  },
  {
   "cell_type": "code",
   "execution_count": null,
   "metadata": {},
   "outputs": [],
   "source": []
  },
  {
   "cell_type": "code",
   "execution_count": null,
   "metadata": {},
   "outputs": [],
   "source": []
  },
  {
   "cell_type": "code",
   "execution_count": null,
   "metadata": {},
   "outputs": [],
   "source": []
  },
  {
   "cell_type": "code",
   "execution_count": null,
   "metadata": {},
   "outputs": [],
   "source": []
  }
 ],
 "metadata": {
  "kernelspec": {
   "display_name": "Python 3",
   "language": "python",
   "name": "python3"
  },
  "language_info": {
   "codemirror_mode": {
    "name": "ipython",
    "version": 3
   },
   "file_extension": ".py",
   "mimetype": "text/x-python",
   "name": "python",
   "nbconvert_exporter": "python",
   "pygments_lexer": "ipython3",
   "version": "3.6.8"
  }
 },
 "nbformat": 4,
 "nbformat_minor": 2
}
